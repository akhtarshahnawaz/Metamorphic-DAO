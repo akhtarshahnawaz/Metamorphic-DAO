{
 "cells": [
  {
   "cell_type": "code",
   "execution_count": 527,
   "id": "d9679ffa",
   "metadata": {},
   "outputs": [],
   "source": [
    "# # os.remove(\"data.db\")\n",
    "# con = sqlite3.connect(\"data.db\")\n",
    "# con.row_factory = sqlite3.Row\n",
    "# cur = con.cursor()\n",
    "# cur.execute(\"CREATE TABLE Persons (name text, age int)\")\n",
    "# cur.execute(\"INSERT INTO Persons VALUES ('Peter', 32)\")\n",
    "# cur.execute(\"SELECT * FROM Persons\")\n",
    "# [{k:r[k] for k in r.keys()}for r in cur.execute('SELECT * from sqlite_master').fetchall()]"
   ]
  },
  {
   "cell_type": "code",
   "execution_count": 528,
   "id": "4c567140",
   "metadata": {},
   "outputs": [],
   "source": [
    "import base64 ,os, time, json, pickle, subprocess, sqlite3\n",
    "from urllib.parse import quote\n",
    "import pandas as pd"
   ]
  },
  {
   "cell_type": "markdown",
   "id": "923d15d7",
   "metadata": {},
   "source": [
    "# Helper Functions"
   ]
  },
  {
   "cell_type": "code",
   "execution_count": 529,
   "id": "05ca438e",
   "metadata": {},
   "outputs": [],
   "source": [
    "def hex2str(hex):\n",
    "    \"\"\"\n",
    "    Decodes a hex string into a regular string\n",
    "    \"\"\"\n",
    "    return bytes.fromhex(hex[2:]).decode(\"utf-8\")\n",
    "\n",
    "def str2hex(str):\n",
    "    \"\"\"\n",
    "    Encodes a string as a hex string\n",
    "    \"\"\"\n",
    "    return \"0x\" + str.encode(\"utf-8\").hex()"
   ]
  },
  {
   "cell_type": "code",
   "execution_count": 530,
   "id": "c922d293",
   "metadata": {},
   "outputs": [],
   "source": [
    "def input_box(address, private_key, payload):\n",
    "    input_box_abi = json.loads(open(\"/Users/shahnawazakhtar/Desktop/liquid-dao/deployments/localhost/InputBox.json\").read())[\"abi\"]\n",
    "    input_box_address = w3.toChecksumAddress(\"0x5a723220579c0dcb8c9253e6b4c62e572e379945\")\n",
    "    dapp_address = w3.toChecksumAddress(\"0x142105FC8dA71191b3a13C738Ba0cF4BC33325e2\")    # From dapp.json file     \n",
    "\n",
    "    contract = w3.eth.contract(address=input_box_address, abi=input_box_abi)\n",
    "    function = contract.functions['addInput'](dapp_address, str2hex(json.dumps(payload)))\n",
    "\n",
    "    # Create a transaction\n",
    "    transaction = function.buildTransaction({\n",
    "        'chainId': 31337,  # Mainnet, change it to the desired network ID (e.g., 3 for Ropsten)\n",
    "        'gas': 200000,  # Adjust the gas limit as required\n",
    "        'gasPrice': w3.toWei('50', 'gwei'),  # Adjust the gas price as required\n",
    "        'nonce': w3.eth.getTransactionCount(address),\n",
    "    })\n",
    "    \n",
    "    # Sign the transaction with your private key, sent it and wait for receipt\n",
    "    signed_transaction = w3.eth.account.signTransaction(transaction, private_key=private_key)\n",
    "    tx_hash = w3.eth.sendRawTransaction(signed_transaction.rawTransaction)\n",
    "    tx_receipt = w3.eth.waitForTransactionReceipt(tx_hash)\n",
    "    print(tx_hash)"
   ]
  },
  {
   "cell_type": "markdown",
   "id": "fedb8659",
   "metadata": {},
   "source": [
    "# Calls that can be made at genesis"
   ]
  },
  {
   "cell_type": "code",
   "execution_count": 531,
   "id": "e4472ed9",
   "metadata": {},
   "outputs": [],
   "source": [
    "default_address = \"0xf39Fd6e51aad88F6F4ce6aB8827279cffFb92266\"\n",
    "default_pkey = \"0xac0974bec39a17e36ba4a6b4d238ff944bacb478cbed5efcae784d7bf4f2ff80\"\n",
    "\n",
    "def generate_call(calltype, action, metadata, address = default_address, private_key=default_pkey):\n",
    "    data = {\n",
    "        \"action\": action,\n",
    "        \"metadata\": metadata}\n",
    "    input_box(address,private_key,data)\n",
    "\n",
    "def create_ammendment_proposal(name, logic, description, address = default_address, private_key=default_pkey):\n",
    "    data = {\n",
    "        \"action\": \"create_ammendment_proposal\",\n",
    "        \"metadata\": {\n",
    "            \"name\": name,\n",
    "            \"logic\": str2hex(logic),\n",
    "            \"description\": description\n",
    "        }}\n",
    "    input_box(address,private_key,data)\n",
    "\n",
    "\n",
    "def delete_ammendment_proposal(name, address = default_address, private_key=default_pkey):\n",
    "    data = {\n",
    "        \"action\": \"delete_ammendment_proposal\",\n",
    "        \"metadata\": {\n",
    "            \"name\": name\n",
    "        }}\n",
    "    input_box(address,private_key,data)\n",
    "\n",
    "def ammendment_concensus(name, address = default_address, private_key=default_pkey):\n",
    "    data = {\n",
    "        \"action\": \"ammendment_concensus\",\n",
    "        \"metadata\": {\n",
    "            \"name\": name\n",
    "        }}\n",
    "    input_box(address,private_key,data)\n",
    "\n",
    "    \n",
    "def table_info(name):\n",
    "    data = {\n",
    "        \"action\": \"table_info\",\n",
    "        \"metadata\": {\n",
    "            \"name\": name\n",
    "        }}\n",
    "    response = requests.get(\"http://localhost:5005/inspect/\"+quote(json.dumps(data)))\n",
    "    return pd.DataFrame(json.loads(hex2str(response.json()['reports'][0]['payload'])))\n",
    "    \n",
    "def notices():\n",
    "    os.chdir(\"/Users/shahnawazakhtar/Desktop/liquid-dao/frontend-console\")\n",
    "    os.system(\"yarn start notice list\")"
   ]
  },
  {
   "cell_type": "markdown",
   "id": "46730574",
   "metadata": {},
   "source": [
    "# Bootstrapping the DAO"
   ]
  },
  {
   "cell_type": "markdown",
   "id": "f24fb52d",
   "metadata": {},
   "source": [
    "#### At Genesis"
   ]
  },
  {
   "cell_type": "code",
   "execution_count": 540,
   "id": "015d5152",
   "metadata": {},
   "outputs": [
    {
     "data": {
      "text/html": [
       "<div>\n",
       "<style scoped>\n",
       "    .dataframe tbody tr th:only-of-type {\n",
       "        vertical-align: middle;\n",
       "    }\n",
       "\n",
       "    .dataframe tbody tr th {\n",
       "        vertical-align: top;\n",
       "    }\n",
       "\n",
       "    .dataframe thead th {\n",
       "        text-align: right;\n",
       "    }\n",
       "</style>\n",
       "<table border=\"1\" class=\"dataframe\">\n",
       "  <thead>\n",
       "    <tr style=\"text-align: right;\">\n",
       "      <th></th>\n",
       "      <th>name</th>\n",
       "      <th>logic</th>\n",
       "      <th>description</th>\n",
       "    </tr>\n",
       "  </thead>\n",
       "  <tbody>\n",
       "    <tr>\n",
       "      <th>0</th>\n",
       "      <td>create_ammendment_proposal</td>\n",
       "      <td>0x0a646566206372656174655f616d6d656e646d656e74...</td>\n",
       "      <td>Create ammendment proposal</td>\n",
       "    </tr>\n",
       "    <tr>\n",
       "      <th>1</th>\n",
       "      <td>delete_ammendment_proposal</td>\n",
       "      <td>0x0a6465662064656c6574655f616d6d656e646d656e74...</td>\n",
       "      <td>Delete ammendment proposal</td>\n",
       "    </tr>\n",
       "    <tr>\n",
       "      <th>2</th>\n",
       "      <td>ammendment_concensus</td>\n",
       "      <td>0x0a64656620616d6d656e646d656e745f636f6e63656e...</td>\n",
       "      <td>Rules for ammendment_concensus in the DAO at g...</td>\n",
       "    </tr>\n",
       "    <tr>\n",
       "      <th>3</th>\n",
       "      <td>table_info</td>\n",
       "      <td>0x0a646566207461626c655f696e666f286d6574616461...</td>\n",
       "      <td>Getting information about a table</td>\n",
       "    </tr>\n",
       "  </tbody>\n",
       "</table>\n",
       "</div>"
      ],
      "text/plain": [
       "                         name  \\\n",
       "0  create_ammendment_proposal   \n",
       "1  delete_ammendment_proposal   \n",
       "2        ammendment_concensus   \n",
       "3                  table_info   \n",
       "\n",
       "                                               logic  \\\n",
       "0  0x0a646566206372656174655f616d6d656e646d656e74...   \n",
       "1  0x0a6465662064656c6574655f616d6d656e646d656e74...   \n",
       "2  0x0a64656620616d6d656e646d656e745f636f6e63656e...   \n",
       "3  0x0a646566207461626c655f696e666f286d6574616461...   \n",
       "\n",
       "                                         description  \n",
       "0                         Create ammendment proposal  \n",
       "1                         Delete ammendment proposal  \n",
       "2  Rules for ammendment_concensus in the DAO at g...  \n",
       "3                  Getting information about a table  "
      ]
     },
     "execution_count": 540,
     "metadata": {},
     "output_type": "execute_result"
    }
   ],
   "source": [
    "table_info(\"RULES\")"
   ]
  },
  {
   "cell_type": "code",
   "execution_count": 544,
   "id": "7bdb2a99",
   "metadata": {},
   "outputs": [
    {
     "data": {
      "text/html": [
       "<div>\n",
       "<style scoped>\n",
       "    .dataframe tbody tr th:only-of-type {\n",
       "        vertical-align: middle;\n",
       "    }\n",
       "\n",
       "    .dataframe tbody tr th {\n",
       "        vertical-align: top;\n",
       "    }\n",
       "\n",
       "    .dataframe thead th {\n",
       "        text-align: right;\n",
       "    }\n",
       "</style>\n",
       "<table border=\"1\" class=\"dataframe\">\n",
       "  <thead>\n",
       "    <tr style=\"text-align: right;\">\n",
       "      <th></th>\n",
       "      <th>name</th>\n",
       "      <th>logic</th>\n",
       "      <th>description</th>\n",
       "      <th>expiry</th>\n",
       "      <th>votes</th>\n",
       "    </tr>\n",
       "  </thead>\n",
       "  <tbody>\n",
       "    <tr>\n",
       "      <th>0</th>\n",
       "      <td>vote</td>\n",
       "      <td>0x0a64656620766f7465286d657461646174612c206375...</td>\n",
       "      <td>none</td>\n",
       "      <td>None</td>\n",
       "      <td>None</td>\n",
       "    </tr>\n",
       "    <tr>\n",
       "      <th>1</th>\n",
       "      <td>create_vote_collection_table</td>\n",
       "      <td>0x0a646566206372656174655f766f74655f636f6c6c65...</td>\n",
       "      <td>none</td>\n",
       "      <td>None</td>\n",
       "      <td>None</td>\n",
       "    </tr>\n",
       "  </tbody>\n",
       "</table>\n",
       "</div>"
      ],
      "text/plain": [
       "                           name  \\\n",
       "0                          vote   \n",
       "1  create_vote_collection_table   \n",
       "\n",
       "                                               logic description expiry votes  \n",
       "0  0x0a64656620766f7465286d657461646174612c206375...        none   None  None  \n",
       "1  0x0a646566206372656174655f766f74655f636f6c6c65...        none   None  None  "
      ]
     },
     "execution_count": 544,
     "metadata": {},
     "output_type": "execute_result"
    }
   ],
   "source": [
    "table_info(\"AMMENDMENT_PROPOSALS\")"
   ]
  },
  {
   "cell_type": "markdown",
   "id": "cee9e4de",
   "metadata": {},
   "source": [
    "### Adding vote collection table"
   ]
  },
  {
   "cell_type": "code",
   "execution_count": 542,
   "id": "eba2a443",
   "metadata": {},
   "outputs": [
    {
     "name": "stdout",
     "output_type": "stream",
     "text": [
      "b'\\x95\\xf5\\x1f\\t\\x9e\\xb5\\xe0\\xcc\\x99\\xc0Wc\\xb0\\xc6v\\xa2\\xdaD\\xec\\xa4^\\xe7\\x85{\\xcf\\xbb7e`Vf\\xdf'\n"
     ]
    }
   ],
   "source": [
    "logic = '''\n",
    "def create_vote_collection_table(metadata, cur, data):\n",
    "    cur.execute(\"CREATE TABLE IF NOT EXISTS VOTES (user text, proposal_name text, vote int)\")\n",
    "    cur.execute(f'DELETE FROM RULES WHERE name=\"create_vote_collection_table\"')\n",
    "    return {\"message\":\"hello world!\"}\n",
    "'''\n",
    "\n",
    "name = \"create_vote_collection_table\"\n",
    "create_ammendment_proposal(name, logic, 'none')"
   ]
  },
  {
   "cell_type": "code",
   "execution_count": 545,
   "id": "c118573b",
   "metadata": {},
   "outputs": [
    {
     "name": "stdout",
     "output_type": "stream",
     "text": [
      "b'\\x0e\\x15\\xc0\\x891m\\xc6\\r\\x07=2tf\\x11`@R\\x08`&\\x86\\xfe\\xbe\\xf5\\x92\\xad}\\x01N\\x8c9\\x98'\n"
     ]
    }
   ],
   "source": [
    "ammendment_concensus(name)\n",
    "time.sleep(10)\n",
    "table_info(\"RULES\")\n"
   ]
  },
  {
   "cell_type": "code",
   "execution_count": 548,
   "id": "26ed2794",
   "metadata": {},
   "outputs": [
    {
     "name": "stdout",
     "output_type": "stream",
     "text": [
      "b'\\xa9\\x1f!\\xb7\\x8d\\xa5\\x0fh\\xb6\\xe3F\\x8c\\xaa\\x10\\x99L\\x8f\\xb5Z\\xdb\\xba\\xf9T\\xdc\\xe8S\\tW(\\x9e\\xd8\\xe8'\n"
     ]
    }
   ],
   "source": [
    "generate_call('input',\"create_vote_collection_table\" , {})\n",
    "time.sleep(10)\n",
    "table_info(\"RULES\")"
   ]
  },
  {
   "cell_type": "code",
   "execution_count": 549,
   "id": "78a907d4",
   "metadata": {},
   "outputs": [
    {
     "data": {
      "text/html": [
       "<div>\n",
       "<style scoped>\n",
       "    .dataframe tbody tr th:only-of-type {\n",
       "        vertical-align: middle;\n",
       "    }\n",
       "\n",
       "    .dataframe tbody tr th {\n",
       "        vertical-align: top;\n",
       "    }\n",
       "\n",
       "    .dataframe thead th {\n",
       "        text-align: right;\n",
       "    }\n",
       "</style>\n",
       "<table border=\"1\" class=\"dataframe\">\n",
       "  <thead>\n",
       "    <tr style=\"text-align: right;\">\n",
       "      <th></th>\n",
       "    </tr>\n",
       "  </thead>\n",
       "  <tbody>\n",
       "  </tbody>\n",
       "</table>\n",
       "</div>"
      ],
      "text/plain": [
       "Empty DataFrame\n",
       "Columns: []\n",
       "Index: []"
      ]
     },
     "execution_count": 549,
     "metadata": {},
     "output_type": "execute_result"
    }
   ],
   "source": [
    "time.sleep(10)\n",
    "table_info(\"VOTES\")"
   ]
  },
  {
   "cell_type": "markdown",
   "id": "d37b79cd",
   "metadata": {},
   "source": [
    "### Adding methods to vote"
   ]
  },
  {
   "cell_type": "code",
   "execution_count": 525,
   "id": "5440a457",
   "metadata": {},
   "outputs": [
    {
     "name": "stdout",
     "output_type": "stream",
     "text": [
      "b'\\xd7\\xb4\\xed\\xcc>w\\x9a\\xf7\\x7f\\x1c\\xda|\\x9f\\x1a\\xed0Tt\\xcaL\\x17\\xe3\\xe3\\xf0\\x94rS\\xb4\\x913\\xa9\\xbd'\n"
     ]
    }
   ],
   "source": [
    "logic = '''\n",
    "def vote(metadata, cur, data):\n",
    "    voter = data['metadata']['msg_sender']\n",
    "    proposal_name = metadata['proposal']\n",
    "    vote = metadata['vote']\n",
    "    \n",
    "    # Make sure that voter is a valid voter\n",
    "    verify = cur.execute('SELECT * FROM OWNERSHIPS WHERE depositor_address=\"{voter}\"').fetchall()\n",
    "    if len(verify)>0:\n",
    "        if int(verify[0][\"amount\"])>5:\n",
    "            cur.execute(\"INSERT INTO VOTES (user, proposal_name, vote) VALUES(?,?,?)\",[voter, proposal_name, vote])\n",
    "    else:\n",
    "        return \"Not allowed to vote\"\n",
    "        \n",
    "'''\n",
    "\n",
    "name = \"vote\"\n",
    "create_ammendment_proposal(name, logic, 'none')"
   ]
  },
  {
   "cell_type": "code",
   "execution_count": null,
   "id": "475227b7",
   "metadata": {},
   "outputs": [],
   "source": [
    "ammendment_concensus(name)\n",
    "generate_call('input',\"create_vote_collection_table\" , {})"
   ]
  },
  {
   "cell_type": "markdown",
   "id": "09d67aa9",
   "metadata": {},
   "source": [
    "### Updating concensus rule"
   ]
  },
  {
   "cell_type": "code",
   "execution_count": null,
   "id": "d3c5bc7d",
   "metadata": {},
   "outputs": [],
   "source": [
    "ammendment_concensus = '''\n",
    "def ammendment_concensus(metadata, cur, data):\n",
    "    proposal = metadata[\"name\"]\n",
    "    ammendment_data = cur.execute(f'SELECT (SUM(vote)/COUNT(vote)) AS vote_ratio FROM VOTES WHERE proposal_name=\"{proposal}\"').fetchall()\n",
    "    if len(ammendment_data>0):\n",
    "        if ammendment_data[0]['vote_ratio']>0.5:\n",
    "            ammendment_data = cur.execute(f'SELECT * FROM AMMENDMENT_PROPOSALS WHERE name=\"{proposal}\"').fetchall()\n",
    "            cur.execute(\"INSERT INTO RULES (name,logic,description) VALUES(?,?,?)\",[ammendment_data[0][\"name\"], ammendment_data[0][\"logic\"], ammendment_data[0][\"description\"]])\n",
    "            cur.execute(f'DELETE FROM AMMENDMENT_PROPOSALS WHERE name=\"{proposal}\"')\n",
    "            return f'Ammendment proposal {proposal} won'\n",
    "        else:\n",
    "            return f'Ammendment proposal {proposal} lost'\n",
    "    else:\n",
    "        return f'No votes for ammendment proposal {proposal}'\n",
    "'''\n",
    "name = \"ammendment_concensus\"\n",
    "create_ammendment_proposal(name, logic, 'none')"
   ]
  },
  {
   "cell_type": "code",
   "execution_count": null,
   "id": "a817ae04",
   "metadata": {},
   "outputs": [],
   "source": [
    "ammendment_concensus(name)"
   ]
  },
  {
   "cell_type": "markdown",
   "id": "71ad5bf7",
   "metadata": {},
   "source": [
    "### Adding logic to make DAO self governing"
   ]
  },
  {
   "cell_type": "code",
   "execution_count": null,
   "id": "4908c06e",
   "metadata": {},
   "outputs": [],
   "source": []
  },
  {
   "cell_type": "markdown",
   "id": "f46f9ba0",
   "metadata": {},
   "source": [
    "# DAO L1 preparation Code"
   ]
  },
  {
   "cell_type": "code",
   "execution_count": null,
   "id": "8e1c33b4",
   "metadata": {},
   "outputs": [],
   "source": [
    "import json\n",
    "from web3 import Web3\n",
    "\n",
    "# Connect to an Ethereum node or provider (e.g., Infura)\n",
    "w3 = Web3(Web3.HTTPProvider('http://127.0.0.1:8545'))"
   ]
  },
  {
   "cell_type": "markdown",
   "id": "7e813c50",
   "metadata": {},
   "source": [
    "### Accounts"
   ]
  },
  {
   "cell_type": "code",
   "execution_count": null,
   "id": "0399a846",
   "metadata": {},
   "outputs": [],
   "source": [
    "accounts = {\n",
    "    \"0xf39Fd6e51aad88F6F4ce6aB8827279cffFb92266\":\"0xac0974bec39a17e36ba4a6b4d238ff944bacb478cbed5efcae784d7bf4f2ff80\",\n",
    "    \"0x70997970C51812dc3A010C7d01b50e0d17dc79C8\":\"0x59c6995e998f97a5a0044966f0945389dc9e86dae88c7a8412f4603b6b78690d\",\n",
    "    \"0x3C44CdDdB6a900fa2b585dd299e03d12FA4293BC\":\"0x5de4111afa1a4b94908f83103eb1f1706367c2e68ca870fc3fb9a804cdab365a\",\n",
    "    \"0x90F79bf6EB2c4f870365E785982E1f101E93b906\":\"0x7c852118294e51e653712a81e05800f419141751be58f605c371e15141b007a6\",\n",
    "    \"0x15d34AAf54267DB7D7c367839AAf71A00a2C6A65\":\"0x47e179ec197488593b187f80a00eb0da91f1b9d0b13f8733639f19c30a34926a\",\n",
    "    \"0x9965507D1a55bcC2695C58ba16FB37d819B0A4dc\":\"0x8b3a350cf5c34c9194ca85829a2df0ec3153be0318b5e2d3348e872092edffba\",\n",
    "    \"0x976EA74026E726554dB657fA54763abd0C3a0aa9\":\"0x92db14e403b83dfe3df233f83dfa3a0d7096f21ca9b0d6d6b8d88b2b4ec1564e\",\n",
    "    \"0x14dC79964da2C08b23698B3D3cc7Ca32193d9955\":\"0x4bbbf85ce3377467afe5d46f804f221813b2bb87f24d81f60f1fcdbf7cbf4356\",\n",
    "    \"0x23618e81E3f5cdF7f54C3d65f7FBc0aBf5B21E8f\":\"0xdbda1821b80551c9d65939329250298aa3472ba22feea921c0cf5d620ea67b97\",\n",
    "    \"0xa0Ee7A142d267C1f36714E4a8F75612F20a79720\":\"0x2a871d0798f97d79848a013d4936a73bf4cc922c825d33c1cf7073dff6d409c6\",\n",
    "    \"0xBcd4042DE499D14e55001CcbB24a551F3b954096\":\"0xf214f2b2cd398c806f84e317254e0f0b801d0643303237d97a22a48e01628897\",\n",
    "    \"0x71bE63f3384f5fb98995898A86B02Fb2426c5788\":\"0x701b615bbdfb9de65240bc28bd21bbc0d996645a3dd57e7b12bc2bdf6f192c82\",\n",
    "    \"0xFABB0ac9d68B0B445fB7357272Ff202C5651694a\":\"0xa267530f49f8280200edf313ee7af6b827f2a8bce2897751d06a843f644967b1\",\n",
    "    \"0x1CBd3b2770909D4e10f157cABC84C7264073C9Ec\":\"0x47c99abed3324a2707c28affff1267e45918ec8c3f20b8aa892e8b065d2942dd\",\n",
    "    \"0xdF3e18d64BC6A983f673Ab319CCaE4f1a57C7097\":\"0xc526ee95bf44d8fc405a158bb884d9d1238d99f0612e9f33d006bb0789009aaa\",\n",
    "    \"0xcd3B766CCDd6AE721141F452C550Ca635964ce71\":\"0x8166f546bab6da521a8369cab06c5d2b9e46670292d85c875ee9ec20e84ffb61\",\n",
    "    \"0x2546BcD3c84621e976D8185a91A922aE77ECEc30\":\"0xea6c44ac03bff858b476bba40716402b03e41b8e97e276d1baec7c37d42484a0\",\n",
    "    \"0xbDA5747bFD65F08deb54cb465eB87D40e51B197E\":\"0x689af8efa8c651a91ad287602527f3af2fe9f6501a7ac4b061667b5a93e037fd\",\n",
    "    \"0xdD2FD4581271e230360230F9337D5c0430Bf44C0\":\"0xde9be858da4a475276426320d5e9262ecfc3ba460bfac56360bfa6c4c28b4ee0\",\n",
    "    \"0x8626f6940E2eb28930eFb4CeF49B2d1F2C9C1199\":\"0xdf57089febbacf7ba0bc227dafbffa9fc08a93fdc68e1e42411a14efcf23656e\"\n",
    "}"
   ]
  },
  {
   "cell_type": "markdown",
   "id": "d836df0e",
   "metadata": {},
   "source": [
    "### Deploy this contract using Remix and get the deployment address"
   ]
  },
  {
   "cell_type": "code",
   "execution_count": null,
   "id": "2436b169",
   "metadata": {},
   "outputs": [],
   "source": [
    "# pragma solidity ^0.8.19;\n",
    "\n",
    "# import \"https://github.com/OpenZeppelin/openzeppelin-contracts/blob/master/contracts/token/ERC20/ERC20.sol\";\n",
    "\n",
    "# contract LiquidDAOToken is ERC20 {\n",
    "#   constructor(string memory _name, string memory _symbol) ERC20(_name, _symbol) {\n",
    "#     _mint(msg.sender, 1000 * 10 **18);\n",
    "#   }\n",
    "\n",
    "#     function mint_tokens(address account, uint256 value) public {\n",
    "#         _mint(account, value);\n",
    "#     }\n",
    "  \n",
    "# }\n",
    "\n",
    "token_deployment_address = \"0x851356ae760d987E095750cCeb3bC6014560891C\"\n",
    "token_abi = json.loads(open(\"/Users/shahnawazakhtar/Desktop/liquid-dao/abis/ERC20_Token.json\").read())\n"
   ]
  },
  {
   "cell_type": "markdown",
   "id": "363ca751",
   "metadata": {},
   "source": [
    "### Mint tokens for all the addresses"
   ]
  },
  {
   "cell_type": "code",
   "execution_count": null,
   "id": "57080e0a",
   "metadata": {},
   "outputs": [],
   "source": [
    "def mint_tokens(address_to_mint_for, token_deployment_address, token_abi, private_key):\n",
    "    contract = w3.eth.contract(address=token_deployment_address, abi=token_abi)\n",
    "    function = contract.functions['mint_tokens'](address_to_mint_for, 1000 * 10 **18)\n",
    "\n",
    "    # Create a transaction\n",
    "    transaction = function.buildTransaction({\n",
    "        'chainId': 31337,  # Mainnet, change it to the desired network ID (e.g., 3 for Ropsten)\n",
    "        'gas': 200000,  # Adjust the gas limit as required\n",
    "        'gasPrice': w3.toWei('50', 'gwei'),  # Adjust the gas price as required\n",
    "        'nonce': w3.eth.getTransactionCount(address_to_mint_for),\n",
    "    })\n",
    "    \n",
    "    # Sign the transaction with your private key, sent it and wait for receipt\n",
    "    signed_transaction = w3.eth.account.signTransaction(transaction, private_key=private_key)\n",
    "    tx_hash = w3.eth.sendRawTransaction(signed_transaction.rawTransaction)\n",
    "    tx_receipt = w3.eth.waitForTransactionReceipt(tx_hash)\n",
    "    print(tx_hash)\n",
    "    \n",
    "for address, private_key in  accounts.items():\n",
    "    mint_tokens(address, token_deployment_address, token_abi, private_key)"
   ]
  },
  {
   "cell_type": "markdown",
   "id": "22b9b9e7",
   "metadata": {},
   "source": [
    "### Approve Cartesi Dapp to spend from all the accounts & then bridge to those accounts"
   ]
  },
  {
   "cell_type": "code",
   "execution_count": null,
   "id": "fe264107",
   "metadata": {},
   "outputs": [],
   "source": [
    "def approve_portal_to_spend(portal_address, token_deployment_address, token_abi, address, private_key):\n",
    "    contract = w3.eth.contract(address=token_deployment_address, abi=token_abi)\n",
    "    function = contract.functions['approve'](portal_address, 1000 * 10 **18)\n",
    "\n",
    "    # Create a transaction\n",
    "    transaction = function.buildTransaction({\n",
    "        'chainId': 31337,  # Mainnet, change it to the desired network ID (e.g., 3 for Ropsten)\n",
    "        'gas': 200000,  # Adjust the gas limit as required\n",
    "        'gasPrice': w3.toWei('50', 'gwei'),  # Adjust the gas price as required\n",
    "        'nonce': w3.eth.getTransactionCount(address),\n",
    "    })\n",
    "    \n",
    "    # Sign the transaction with your private key, sent it and wait for receipt\n",
    "    signed_transaction = w3.eth.account.signTransaction(transaction, private_key=private_key)\n",
    "    tx_hash = w3.eth.sendRawTransaction(signed_transaction.rawTransaction)\n",
    "    tx_receipt = w3.eth.waitForTransactionReceipt(tx_hash)\n",
    "    print(tx_hash)\n",
    "    \n",
    "def bridge_tokens_to_cartesi(erc20_portal_address, erc20_portal_abi, cartesi_dapp_address, token_deployment_address, address, private_key):\n",
    "    # parameters: IERC20 _token, address _dapp, uint256 _amount\n",
    "    contract = w3.eth.contract(address=erc20_portal_address, abi=erc20_portal_abi)\n",
    "    function = contract.functions['depositERC20Tokens'](token_deployment_address, cartesi_dapp_address, 1000000,'')\n",
    "\n",
    "    # Create a transaction\n",
    "    transaction = function.buildTransaction({\n",
    "        'chainId': 31337,  # Mainnet, change it to the desired network ID (e.g., 3 for Ropsten)\n",
    "        'gas': 200000,  # Adjust the gas limit as required\n",
    "        'gasPrice': w3.toWei('50', 'gwei'),  # Adjust the gas price as required\n",
    "        'nonce': w3.eth.getTransactionCount(address),\n",
    "    })\n",
    "    \n",
    "    # Sign the transaction with your private key, sent it and wait for receipt\n",
    "    signed_transaction = w3.eth.account.signTransaction(transaction, private_key=private_key)\n",
    "    tx_hash = w3.eth.sendRawTransaction(signed_transaction.rawTransaction)\n",
    "    tx_receipt = w3.eth.waitForTransactionReceipt(tx_hash)\n",
    "    print(tx_hash)\n",
    "    "
   ]
  },
  {
   "cell_type": "code",
   "execution_count": null,
   "id": "35e5be2b",
   "metadata": {},
   "outputs": [],
   "source": [
    "erc20_portal_abi = json.loads(open(\"/Users/shahnawazakhtar/Desktop/liquid-dao/deployments/localhost/ERC20Portal.json\").read())[\"abi\"]\n",
    "erc20_portal_address = \"0x4340ac4FcdFC5eF8d34930C96BBac2Af1301DF40\"\n",
    "dapp_address = \"0x142105FC8dA71191b3a13C738Ba0cF4BC33325e2\"    # From dapp.json file     \n",
    "\n",
    "\n",
    "for address, private_key in  accounts.items():\n",
    "    approve_portal_to_spend(erc20_portal_address, token_deployment_address, token_abi, address, private_key)\n",
    "    time.sleep((5))\n",
    "    bridge_tokens_to_cartesi(erc20_portal_address, erc20_portal_abi,dapp_address, token_deployment_address, address, private_key)"
   ]
  },
  {
   "cell_type": "code",
   "execution_count": 443,
   "id": "ad94bc11",
   "metadata": {},
   "outputs": [],
   "source": [
    "import requests\n",
    "response = requests.post(\"http://localhost:5005/inspect/mypath\", json={})\n"
   ]
  },
  {
   "cell_type": "code",
   "execution_count": 444,
   "id": "bfb4246d",
   "metadata": {},
   "outputs": [
    {
     "ename": "JSONDecodeError",
     "evalue": "Expecting value: line 1 column 1 (char 0)",
     "output_type": "error",
     "traceback": [
      "\u001b[0;31m---------------------------------------------------------------------------\u001b[0m",
      "\u001b[0;31mJSONDecodeError\u001b[0m                           Traceback (most recent call last)",
      "File \u001b[0;32m~/opt/anaconda3/lib/python3.8/site-packages/requests/models.py:971\u001b[0m, in \u001b[0;36mResponse.json\u001b[0;34m(self, **kwargs)\u001b[0m\n\u001b[1;32m    970\u001b[0m \u001b[38;5;28;01mtry\u001b[39;00m:\n\u001b[0;32m--> 971\u001b[0m     \u001b[38;5;28;01mreturn\u001b[39;00m \u001b[43mcomplexjson\u001b[49m\u001b[38;5;241;43m.\u001b[39;49m\u001b[43mloads\u001b[49m\u001b[43m(\u001b[49m\u001b[38;5;28;43mself\u001b[39;49m\u001b[38;5;241;43m.\u001b[39;49m\u001b[43mtext\u001b[49m\u001b[43m,\u001b[49m\u001b[43m \u001b[49m\u001b[38;5;241;43m*\u001b[39;49m\u001b[38;5;241;43m*\u001b[39;49m\u001b[43mkwargs\u001b[49m\u001b[43m)\u001b[49m\n\u001b[1;32m    972\u001b[0m \u001b[38;5;28;01mexcept\u001b[39;00m JSONDecodeError \u001b[38;5;28;01mas\u001b[39;00m e:\n\u001b[1;32m    973\u001b[0m     \u001b[38;5;66;03m# Catch JSON-related errors and raise as requests.JSONDecodeError\u001b[39;00m\n\u001b[1;32m    974\u001b[0m     \u001b[38;5;66;03m# This aliases json.JSONDecodeError and simplejson.JSONDecodeError\u001b[39;00m\n",
      "File \u001b[0;32m~/opt/anaconda3/lib/python3.8/json/__init__.py:357\u001b[0m, in \u001b[0;36mloads\u001b[0;34m(s, cls, object_hook, parse_float, parse_int, parse_constant, object_pairs_hook, **kw)\u001b[0m\n\u001b[1;32m    354\u001b[0m \u001b[38;5;28;01mif\u001b[39;00m (\u001b[38;5;28mcls\u001b[39m \u001b[38;5;129;01mis\u001b[39;00m \u001b[38;5;28;01mNone\u001b[39;00m \u001b[38;5;129;01mand\u001b[39;00m object_hook \u001b[38;5;129;01mis\u001b[39;00m \u001b[38;5;28;01mNone\u001b[39;00m \u001b[38;5;129;01mand\u001b[39;00m\n\u001b[1;32m    355\u001b[0m         parse_int \u001b[38;5;129;01mis\u001b[39;00m \u001b[38;5;28;01mNone\u001b[39;00m \u001b[38;5;129;01mand\u001b[39;00m parse_float \u001b[38;5;129;01mis\u001b[39;00m \u001b[38;5;28;01mNone\u001b[39;00m \u001b[38;5;129;01mand\u001b[39;00m\n\u001b[1;32m    356\u001b[0m         parse_constant \u001b[38;5;129;01mis\u001b[39;00m \u001b[38;5;28;01mNone\u001b[39;00m \u001b[38;5;129;01mand\u001b[39;00m object_pairs_hook \u001b[38;5;129;01mis\u001b[39;00m \u001b[38;5;28;01mNone\u001b[39;00m \u001b[38;5;129;01mand\u001b[39;00m \u001b[38;5;129;01mnot\u001b[39;00m kw):\n\u001b[0;32m--> 357\u001b[0m     \u001b[38;5;28;01mreturn\u001b[39;00m \u001b[43m_default_decoder\u001b[49m\u001b[38;5;241;43m.\u001b[39;49m\u001b[43mdecode\u001b[49m\u001b[43m(\u001b[49m\u001b[43ms\u001b[49m\u001b[43m)\u001b[49m\n\u001b[1;32m    358\u001b[0m \u001b[38;5;28;01mif\u001b[39;00m \u001b[38;5;28mcls\u001b[39m \u001b[38;5;129;01mis\u001b[39;00m \u001b[38;5;28;01mNone\u001b[39;00m:\n",
      "File \u001b[0;32m~/opt/anaconda3/lib/python3.8/json/decoder.py:337\u001b[0m, in \u001b[0;36mJSONDecoder.decode\u001b[0;34m(self, s, _w)\u001b[0m\n\u001b[1;32m    333\u001b[0m \u001b[38;5;124;03m\"\"\"Return the Python representation of ``s`` (a ``str`` instance\u001b[39;00m\n\u001b[1;32m    334\u001b[0m \u001b[38;5;124;03mcontaining a JSON document).\u001b[39;00m\n\u001b[1;32m    335\u001b[0m \n\u001b[1;32m    336\u001b[0m \u001b[38;5;124;03m\"\"\"\u001b[39;00m\n\u001b[0;32m--> 337\u001b[0m obj, end \u001b[38;5;241m=\u001b[39m \u001b[38;5;28;43mself\u001b[39;49m\u001b[38;5;241;43m.\u001b[39;49m\u001b[43mraw_decode\u001b[49m\u001b[43m(\u001b[49m\u001b[43ms\u001b[49m\u001b[43m,\u001b[49m\u001b[43m \u001b[49m\u001b[43midx\u001b[49m\u001b[38;5;241;43m=\u001b[39;49m\u001b[43m_w\u001b[49m\u001b[43m(\u001b[49m\u001b[43ms\u001b[49m\u001b[43m,\u001b[49m\u001b[43m \u001b[49m\u001b[38;5;241;43m0\u001b[39;49m\u001b[43m)\u001b[49m\u001b[38;5;241;43m.\u001b[39;49m\u001b[43mend\u001b[49m\u001b[43m(\u001b[49m\u001b[43m)\u001b[49m\u001b[43m)\u001b[49m\n\u001b[1;32m    338\u001b[0m end \u001b[38;5;241m=\u001b[39m _w(s, end)\u001b[38;5;241m.\u001b[39mend()\n",
      "File \u001b[0;32m~/opt/anaconda3/lib/python3.8/json/decoder.py:355\u001b[0m, in \u001b[0;36mJSONDecoder.raw_decode\u001b[0;34m(self, s, idx)\u001b[0m\n\u001b[1;32m    354\u001b[0m \u001b[38;5;28;01mexcept\u001b[39;00m \u001b[38;5;167;01mStopIteration\u001b[39;00m \u001b[38;5;28;01mas\u001b[39;00m err:\n\u001b[0;32m--> 355\u001b[0m     \u001b[38;5;28;01mraise\u001b[39;00m JSONDecodeError(\u001b[38;5;124m\"\u001b[39m\u001b[38;5;124mExpecting value\u001b[39m\u001b[38;5;124m\"\u001b[39m, s, err\u001b[38;5;241m.\u001b[39mvalue) \u001b[38;5;28;01mfrom\u001b[39;00m \u001b[38;5;28mNone\u001b[39m\n\u001b[1;32m    356\u001b[0m \u001b[38;5;28;01mreturn\u001b[39;00m obj, end\n",
      "\u001b[0;31mJSONDecodeError\u001b[0m: Expecting value: line 1 column 1 (char 0)",
      "\nDuring handling of the above exception, another exception occurred:\n",
      "\u001b[0;31mJSONDecodeError\u001b[0m                           Traceback (most recent call last)",
      "Cell \u001b[0;32mIn[444], line 1\u001b[0m\n\u001b[0;32m----> 1\u001b[0m \u001b[43mresponse\u001b[49m\u001b[38;5;241;43m.\u001b[39;49m\u001b[43mjson\u001b[49m\u001b[43m(\u001b[49m\u001b[43m)\u001b[49m\n",
      "File \u001b[0;32m~/opt/anaconda3/lib/python3.8/site-packages/requests/models.py:975\u001b[0m, in \u001b[0;36mResponse.json\u001b[0;34m(self, **kwargs)\u001b[0m\n\u001b[1;32m    971\u001b[0m     \u001b[38;5;28;01mreturn\u001b[39;00m complexjson\u001b[38;5;241m.\u001b[39mloads(\u001b[38;5;28mself\u001b[39m\u001b[38;5;241m.\u001b[39mtext, \u001b[38;5;241m*\u001b[39m\u001b[38;5;241m*\u001b[39mkwargs)\n\u001b[1;32m    972\u001b[0m \u001b[38;5;28;01mexcept\u001b[39;00m JSONDecodeError \u001b[38;5;28;01mas\u001b[39;00m e:\n\u001b[1;32m    973\u001b[0m     \u001b[38;5;66;03m# Catch JSON-related errors and raise as requests.JSONDecodeError\u001b[39;00m\n\u001b[1;32m    974\u001b[0m     \u001b[38;5;66;03m# This aliases json.JSONDecodeError and simplejson.JSONDecodeError\u001b[39;00m\n\u001b[0;32m--> 975\u001b[0m     \u001b[38;5;28;01mraise\u001b[39;00m RequestsJSONDecodeError(e\u001b[38;5;241m.\u001b[39mmsg, e\u001b[38;5;241m.\u001b[39mdoc, e\u001b[38;5;241m.\u001b[39mpos)\n",
      "\u001b[0;31mJSONDecodeError\u001b[0m: Expecting value: line 1 column 1 (char 0)"
     ]
    }
   ],
   "source": [
    "response.json()"
   ]
  },
  {
   "cell_type": "code",
   "execution_count": 445,
   "id": "1b2c59df",
   "metadata": {},
   "outputs": [
    {
     "data": {
      "text/plain": [
       "<Response [405]>"
      ]
     },
     "execution_count": 445,
     "metadata": {},
     "output_type": "execute_result"
    }
   ],
   "source": [
    "const response = await fetch('http://localhost:4000/graphql', {\n",
    "  method: 'POST',\n",
    "  headers: { 'Content-Type': 'application/json' },\n",
    "  body: '{ \"query\": \"{ notices { edges { node { payload } } } }\" }'\n",
    "});\n",
    "const result = await response.json();\n",
    "for (let edge of result.data.notices.edges) {\n",
    "    let payload = edge.node.payload;\n",
    "}"
   ]
  },
  {
   "cell_type": "code",
   "execution_count": 459,
   "id": "93650d95",
   "metadata": {},
   "outputs": [
    {
     "data": {
      "text/plain": [
       "400"
      ]
     },
     "execution_count": 459,
     "metadata": {},
     "output_type": "execute_result"
    }
   ],
   "source": [
    "response.status_code"
   ]
  },
  {
   "cell_type": "code",
   "execution_count": 461,
   "id": "d6aeff23",
   "metadata": {},
   "outputs": [
    {
     "ename": "JSONDecodeError",
     "evalue": "Expecting value: line 1 column 1 (char 0)",
     "output_type": "error",
     "traceback": [
      "\u001b[0;31m---------------------------------------------------------------------------\u001b[0m",
      "\u001b[0;31mJSONDecodeError\u001b[0m                           Traceback (most recent call last)",
      "File \u001b[0;32m~/opt/anaconda3/lib/python3.8/site-packages/requests/models.py:971\u001b[0m, in \u001b[0;36mResponse.json\u001b[0;34m(self, **kwargs)\u001b[0m\n\u001b[1;32m    970\u001b[0m \u001b[38;5;28;01mtry\u001b[39;00m:\n\u001b[0;32m--> 971\u001b[0m     \u001b[38;5;28;01mreturn\u001b[39;00m \u001b[43mcomplexjson\u001b[49m\u001b[38;5;241;43m.\u001b[39;49m\u001b[43mloads\u001b[49m\u001b[43m(\u001b[49m\u001b[38;5;28;43mself\u001b[39;49m\u001b[38;5;241;43m.\u001b[39;49m\u001b[43mtext\u001b[49m\u001b[43m,\u001b[49m\u001b[43m \u001b[49m\u001b[38;5;241;43m*\u001b[39;49m\u001b[38;5;241;43m*\u001b[39;49m\u001b[43mkwargs\u001b[49m\u001b[43m)\u001b[49m\n\u001b[1;32m    972\u001b[0m \u001b[38;5;28;01mexcept\u001b[39;00m JSONDecodeError \u001b[38;5;28;01mas\u001b[39;00m e:\n\u001b[1;32m    973\u001b[0m     \u001b[38;5;66;03m# Catch JSON-related errors and raise as requests.JSONDecodeError\u001b[39;00m\n\u001b[1;32m    974\u001b[0m     \u001b[38;5;66;03m# This aliases json.JSONDecodeError and simplejson.JSONDecodeError\u001b[39;00m\n",
      "File \u001b[0;32m~/opt/anaconda3/lib/python3.8/json/__init__.py:357\u001b[0m, in \u001b[0;36mloads\u001b[0;34m(s, cls, object_hook, parse_float, parse_int, parse_constant, object_pairs_hook, **kw)\u001b[0m\n\u001b[1;32m    354\u001b[0m \u001b[38;5;28;01mif\u001b[39;00m (\u001b[38;5;28mcls\u001b[39m \u001b[38;5;129;01mis\u001b[39;00m \u001b[38;5;28;01mNone\u001b[39;00m \u001b[38;5;129;01mand\u001b[39;00m object_hook \u001b[38;5;129;01mis\u001b[39;00m \u001b[38;5;28;01mNone\u001b[39;00m \u001b[38;5;129;01mand\u001b[39;00m\n\u001b[1;32m    355\u001b[0m         parse_int \u001b[38;5;129;01mis\u001b[39;00m \u001b[38;5;28;01mNone\u001b[39;00m \u001b[38;5;129;01mand\u001b[39;00m parse_float \u001b[38;5;129;01mis\u001b[39;00m \u001b[38;5;28;01mNone\u001b[39;00m \u001b[38;5;129;01mand\u001b[39;00m\n\u001b[1;32m    356\u001b[0m         parse_constant \u001b[38;5;129;01mis\u001b[39;00m \u001b[38;5;28;01mNone\u001b[39;00m \u001b[38;5;129;01mand\u001b[39;00m object_pairs_hook \u001b[38;5;129;01mis\u001b[39;00m \u001b[38;5;28;01mNone\u001b[39;00m \u001b[38;5;129;01mand\u001b[39;00m \u001b[38;5;129;01mnot\u001b[39;00m kw):\n\u001b[0;32m--> 357\u001b[0m     \u001b[38;5;28;01mreturn\u001b[39;00m \u001b[43m_default_decoder\u001b[49m\u001b[38;5;241;43m.\u001b[39;49m\u001b[43mdecode\u001b[49m\u001b[43m(\u001b[49m\u001b[43ms\u001b[49m\u001b[43m)\u001b[49m\n\u001b[1;32m    358\u001b[0m \u001b[38;5;28;01mif\u001b[39;00m \u001b[38;5;28mcls\u001b[39m \u001b[38;5;129;01mis\u001b[39;00m \u001b[38;5;28;01mNone\u001b[39;00m:\n",
      "File \u001b[0;32m~/opt/anaconda3/lib/python3.8/json/decoder.py:337\u001b[0m, in \u001b[0;36mJSONDecoder.decode\u001b[0;34m(self, s, _w)\u001b[0m\n\u001b[1;32m    333\u001b[0m \u001b[38;5;124;03m\"\"\"Return the Python representation of ``s`` (a ``str`` instance\u001b[39;00m\n\u001b[1;32m    334\u001b[0m \u001b[38;5;124;03mcontaining a JSON document).\u001b[39;00m\n\u001b[1;32m    335\u001b[0m \n\u001b[1;32m    336\u001b[0m \u001b[38;5;124;03m\"\"\"\u001b[39;00m\n\u001b[0;32m--> 337\u001b[0m obj, end \u001b[38;5;241m=\u001b[39m \u001b[38;5;28;43mself\u001b[39;49m\u001b[38;5;241;43m.\u001b[39;49m\u001b[43mraw_decode\u001b[49m\u001b[43m(\u001b[49m\u001b[43ms\u001b[49m\u001b[43m,\u001b[49m\u001b[43m \u001b[49m\u001b[43midx\u001b[49m\u001b[38;5;241;43m=\u001b[39;49m\u001b[43m_w\u001b[49m\u001b[43m(\u001b[49m\u001b[43ms\u001b[49m\u001b[43m,\u001b[49m\u001b[43m \u001b[49m\u001b[38;5;241;43m0\u001b[39;49m\u001b[43m)\u001b[49m\u001b[38;5;241;43m.\u001b[39;49m\u001b[43mend\u001b[49m\u001b[43m(\u001b[49m\u001b[43m)\u001b[49m\u001b[43m)\u001b[49m\n\u001b[1;32m    338\u001b[0m end \u001b[38;5;241m=\u001b[39m _w(s, end)\u001b[38;5;241m.\u001b[39mend()\n",
      "File \u001b[0;32m~/opt/anaconda3/lib/python3.8/json/decoder.py:355\u001b[0m, in \u001b[0;36mJSONDecoder.raw_decode\u001b[0;34m(self, s, idx)\u001b[0m\n\u001b[1;32m    354\u001b[0m \u001b[38;5;28;01mexcept\u001b[39;00m \u001b[38;5;167;01mStopIteration\u001b[39;00m \u001b[38;5;28;01mas\u001b[39;00m err:\n\u001b[0;32m--> 355\u001b[0m     \u001b[38;5;28;01mraise\u001b[39;00m JSONDecodeError(\u001b[38;5;124m\"\u001b[39m\u001b[38;5;124mExpecting value\u001b[39m\u001b[38;5;124m\"\u001b[39m, s, err\u001b[38;5;241m.\u001b[39mvalue) \u001b[38;5;28;01mfrom\u001b[39;00m \u001b[38;5;28mNone\u001b[39m\n\u001b[1;32m    356\u001b[0m \u001b[38;5;28;01mreturn\u001b[39;00m obj, end\n",
      "\u001b[0;31mJSONDecodeError\u001b[0m: Expecting value: line 1 column 1 (char 0)",
      "\nDuring handling of the above exception, another exception occurred:\n",
      "\u001b[0;31mJSONDecodeError\u001b[0m                           Traceback (most recent call last)",
      "Cell \u001b[0;32mIn[461], line 2\u001b[0m\n\u001b[1;32m      1\u001b[0m response \u001b[38;5;241m=\u001b[39m requests\u001b[38;5;241m.\u001b[39mpost(\u001b[38;5;124m\"\u001b[39m\u001b[38;5;124mhttp://localhost:4000/graphql\u001b[39m\u001b[38;5;124m\"\u001b[39m,json\u001b[38;5;241m=\u001b[39m\u001b[38;5;124m'\u001b[39m\u001b[38;5;124m{\u001b[39m\u001b[38;5;124m \u001b[39m\u001b[38;5;124m\"\u001b[39m\u001b[38;5;124mquery\u001b[39m\u001b[38;5;124m\"\u001b[39m\u001b[38;5;124m: \u001b[39m\u001b[38;5;124m\"\u001b[39m\u001b[38;5;124m{\u001b[39m\u001b[38;5;124m notices \u001b[39m\u001b[38;5;124m{\u001b[39m\u001b[38;5;124m edges \u001b[39m\u001b[38;5;124m{\u001b[39m\u001b[38;5;124m node \u001b[39m\u001b[38;5;124m{\u001b[39m\u001b[38;5;124m payload } } } }\u001b[39m\u001b[38;5;124m\"\u001b[39m\u001b[38;5;124m }\u001b[39m\u001b[38;5;124m'\u001b[39m)\n\u001b[0;32m----> 2\u001b[0m \u001b[43mresponse\u001b[49m\u001b[38;5;241;43m.\u001b[39;49m\u001b[43mjson\u001b[49m\u001b[43m(\u001b[49m\u001b[43m)\u001b[49m\n",
      "File \u001b[0;32m~/opt/anaconda3/lib/python3.8/site-packages/requests/models.py:975\u001b[0m, in \u001b[0;36mResponse.json\u001b[0;34m(self, **kwargs)\u001b[0m\n\u001b[1;32m    971\u001b[0m     \u001b[38;5;28;01mreturn\u001b[39;00m complexjson\u001b[38;5;241m.\u001b[39mloads(\u001b[38;5;28mself\u001b[39m\u001b[38;5;241m.\u001b[39mtext, \u001b[38;5;241m*\u001b[39m\u001b[38;5;241m*\u001b[39mkwargs)\n\u001b[1;32m    972\u001b[0m \u001b[38;5;28;01mexcept\u001b[39;00m JSONDecodeError \u001b[38;5;28;01mas\u001b[39;00m e:\n\u001b[1;32m    973\u001b[0m     \u001b[38;5;66;03m# Catch JSON-related errors and raise as requests.JSONDecodeError\u001b[39;00m\n\u001b[1;32m    974\u001b[0m     \u001b[38;5;66;03m# This aliases json.JSONDecodeError and simplejson.JSONDecodeError\u001b[39;00m\n\u001b[0;32m--> 975\u001b[0m     \u001b[38;5;28;01mraise\u001b[39;00m RequestsJSONDecodeError(e\u001b[38;5;241m.\u001b[39mmsg, e\u001b[38;5;241m.\u001b[39mdoc, e\u001b[38;5;241m.\u001b[39mpos)\n",
      "\u001b[0;31mJSONDecodeError\u001b[0m: Expecting value: line 1 column 1 (char 0)"
     ]
    }
   ],
   "source": [
    "response = requests.post(\"http://localhost:4000/graphql\",json='{ \"query\": \"{ notices { edges { node { payload } } } }\" }')\n",
    "response.json()"
   ]
  },
  {
   "cell_type": "code",
   "execution_count": 465,
   "id": "0f2bbe0e",
   "metadata": {},
   "outputs": [
    {
     "name": "stdout",
     "output_type": "stream",
     "text": [
      "404\n"
     ]
    },
    {
     "ename": "JSONDecodeError",
     "evalue": "Expecting value: line 1 column 1 (char 0)",
     "output_type": "error",
     "traceback": [
      "\u001b[0;31m---------------------------------------------------------------------------\u001b[0m",
      "\u001b[0;31mJSONDecodeError\u001b[0m                           Traceback (most recent call last)",
      "File \u001b[0;32m~/opt/anaconda3/lib/python3.8/site-packages/requests/models.py:971\u001b[0m, in \u001b[0;36mResponse.json\u001b[0;34m(self, **kwargs)\u001b[0m\n\u001b[1;32m    970\u001b[0m \u001b[38;5;28;01mtry\u001b[39;00m:\n\u001b[0;32m--> 971\u001b[0m     \u001b[38;5;28;01mreturn\u001b[39;00m \u001b[43mcomplexjson\u001b[49m\u001b[38;5;241;43m.\u001b[39;49m\u001b[43mloads\u001b[49m\u001b[43m(\u001b[49m\u001b[38;5;28;43mself\u001b[39;49m\u001b[38;5;241;43m.\u001b[39;49m\u001b[43mtext\u001b[49m\u001b[43m,\u001b[49m\u001b[43m \u001b[49m\u001b[38;5;241;43m*\u001b[39;49m\u001b[38;5;241;43m*\u001b[39;49m\u001b[43mkwargs\u001b[49m\u001b[43m)\u001b[49m\n\u001b[1;32m    972\u001b[0m \u001b[38;5;28;01mexcept\u001b[39;00m JSONDecodeError \u001b[38;5;28;01mas\u001b[39;00m e:\n\u001b[1;32m    973\u001b[0m     \u001b[38;5;66;03m# Catch JSON-related errors and raise as requests.JSONDecodeError\u001b[39;00m\n\u001b[1;32m    974\u001b[0m     \u001b[38;5;66;03m# This aliases json.JSONDecodeError and simplejson.JSONDecodeError\u001b[39;00m\n",
      "File \u001b[0;32m~/opt/anaconda3/lib/python3.8/json/__init__.py:357\u001b[0m, in \u001b[0;36mloads\u001b[0;34m(s, cls, object_hook, parse_float, parse_int, parse_constant, object_pairs_hook, **kw)\u001b[0m\n\u001b[1;32m    354\u001b[0m \u001b[38;5;28;01mif\u001b[39;00m (\u001b[38;5;28mcls\u001b[39m \u001b[38;5;129;01mis\u001b[39;00m \u001b[38;5;28;01mNone\u001b[39;00m \u001b[38;5;129;01mand\u001b[39;00m object_hook \u001b[38;5;129;01mis\u001b[39;00m \u001b[38;5;28;01mNone\u001b[39;00m \u001b[38;5;129;01mand\u001b[39;00m\n\u001b[1;32m    355\u001b[0m         parse_int \u001b[38;5;129;01mis\u001b[39;00m \u001b[38;5;28;01mNone\u001b[39;00m \u001b[38;5;129;01mand\u001b[39;00m parse_float \u001b[38;5;129;01mis\u001b[39;00m \u001b[38;5;28;01mNone\u001b[39;00m \u001b[38;5;129;01mand\u001b[39;00m\n\u001b[1;32m    356\u001b[0m         parse_constant \u001b[38;5;129;01mis\u001b[39;00m \u001b[38;5;28;01mNone\u001b[39;00m \u001b[38;5;129;01mand\u001b[39;00m object_pairs_hook \u001b[38;5;129;01mis\u001b[39;00m \u001b[38;5;28;01mNone\u001b[39;00m \u001b[38;5;129;01mand\u001b[39;00m \u001b[38;5;129;01mnot\u001b[39;00m kw):\n\u001b[0;32m--> 357\u001b[0m     \u001b[38;5;28;01mreturn\u001b[39;00m \u001b[43m_default_decoder\u001b[49m\u001b[38;5;241;43m.\u001b[39;49m\u001b[43mdecode\u001b[49m\u001b[43m(\u001b[49m\u001b[43ms\u001b[49m\u001b[43m)\u001b[49m\n\u001b[1;32m    358\u001b[0m \u001b[38;5;28;01mif\u001b[39;00m \u001b[38;5;28mcls\u001b[39m \u001b[38;5;129;01mis\u001b[39;00m \u001b[38;5;28;01mNone\u001b[39;00m:\n",
      "File \u001b[0;32m~/opt/anaconda3/lib/python3.8/json/decoder.py:337\u001b[0m, in \u001b[0;36mJSONDecoder.decode\u001b[0;34m(self, s, _w)\u001b[0m\n\u001b[1;32m    333\u001b[0m \u001b[38;5;124;03m\"\"\"Return the Python representation of ``s`` (a ``str`` instance\u001b[39;00m\n\u001b[1;32m    334\u001b[0m \u001b[38;5;124;03mcontaining a JSON document).\u001b[39;00m\n\u001b[1;32m    335\u001b[0m \n\u001b[1;32m    336\u001b[0m \u001b[38;5;124;03m\"\"\"\u001b[39;00m\n\u001b[0;32m--> 337\u001b[0m obj, end \u001b[38;5;241m=\u001b[39m \u001b[38;5;28;43mself\u001b[39;49m\u001b[38;5;241;43m.\u001b[39;49m\u001b[43mraw_decode\u001b[49m\u001b[43m(\u001b[49m\u001b[43ms\u001b[49m\u001b[43m,\u001b[49m\u001b[43m \u001b[49m\u001b[43midx\u001b[49m\u001b[38;5;241;43m=\u001b[39;49m\u001b[43m_w\u001b[49m\u001b[43m(\u001b[49m\u001b[43ms\u001b[49m\u001b[43m,\u001b[49m\u001b[43m \u001b[49m\u001b[38;5;241;43m0\u001b[39;49m\u001b[43m)\u001b[49m\u001b[38;5;241;43m.\u001b[39;49m\u001b[43mend\u001b[49m\u001b[43m(\u001b[49m\u001b[43m)\u001b[49m\u001b[43m)\u001b[49m\n\u001b[1;32m    338\u001b[0m end \u001b[38;5;241m=\u001b[39m _w(s, end)\u001b[38;5;241m.\u001b[39mend()\n",
      "File \u001b[0;32m~/opt/anaconda3/lib/python3.8/json/decoder.py:355\u001b[0m, in \u001b[0;36mJSONDecoder.raw_decode\u001b[0;34m(self, s, idx)\u001b[0m\n\u001b[1;32m    354\u001b[0m \u001b[38;5;28;01mexcept\u001b[39;00m \u001b[38;5;167;01mStopIteration\u001b[39;00m \u001b[38;5;28;01mas\u001b[39;00m err:\n\u001b[0;32m--> 355\u001b[0m     \u001b[38;5;28;01mraise\u001b[39;00m JSONDecodeError(\u001b[38;5;124m\"\u001b[39m\u001b[38;5;124mExpecting value\u001b[39m\u001b[38;5;124m\"\u001b[39m, s, err\u001b[38;5;241m.\u001b[39mvalue) \u001b[38;5;28;01mfrom\u001b[39;00m \u001b[38;5;28mNone\u001b[39m\n\u001b[1;32m    356\u001b[0m \u001b[38;5;28;01mreturn\u001b[39;00m obj, end\n",
      "\u001b[0;31mJSONDecodeError\u001b[0m: Expecting value: line 1 column 1 (char 0)",
      "\nDuring handling of the above exception, another exception occurred:\n",
      "\u001b[0;31mJSONDecodeError\u001b[0m                           Traceback (most recent call last)",
      "Cell \u001b[0;32mIn[465], line 12\u001b[0m\n\u001b[1;32m      9\u001b[0m     \u001b[38;5;28;01mreturn\u001b[39;00m response\u001b[38;5;241m.\u001b[39mjson()\n\u001b[1;32m     10\u001b[0m \u001b[38;5;66;03m#     os.chdir(\"/Users/shahnawazakhtar/Desktop/liquid-dao/frontend-console\")\u001b[39;00m\n\u001b[1;32m     11\u001b[0m \u001b[38;5;66;03m#     os.system(f\"yarn start inspect --payload '{json.dumps(data)}'\")\u001b[39;00m\n\u001b[0;32m---> 12\u001b[0m \u001b[43mt\u001b[49m\u001b[43m(\u001b[49m\u001b[38;5;124;43m\"\u001b[39;49m\u001b[38;5;124;43mRULES\u001b[39;49m\u001b[38;5;124;43m\"\u001b[39;49m\u001b[43m)\u001b[49m\n",
      "Cell \u001b[0;32mIn[465], line 9\u001b[0m, in \u001b[0;36mt\u001b[0;34m(name)\u001b[0m\n\u001b[1;32m      7\u001b[0m response \u001b[38;5;241m=\u001b[39m requests\u001b[38;5;241m.\u001b[39mpost(\u001b[38;5;124m\"\u001b[39m\u001b[38;5;124mhttp://localhost:5005/inspect\u001b[39m\u001b[38;5;124m\"\u001b[39m, json\u001b[38;5;241m=\u001b[39mstr2hex(json\u001b[38;5;241m.\u001b[39mdumps(data)))\n\u001b[1;32m      8\u001b[0m \u001b[38;5;28mprint\u001b[39m(response\u001b[38;5;241m.\u001b[39mstatus_code)\n\u001b[0;32m----> 9\u001b[0m \u001b[38;5;28;01mreturn\u001b[39;00m \u001b[43mresponse\u001b[49m\u001b[38;5;241;43m.\u001b[39;49m\u001b[43mjson\u001b[49m\u001b[43m(\u001b[49m\u001b[43m)\u001b[49m\n",
      "File \u001b[0;32m~/opt/anaconda3/lib/python3.8/site-packages/requests/models.py:975\u001b[0m, in \u001b[0;36mResponse.json\u001b[0;34m(self, **kwargs)\u001b[0m\n\u001b[1;32m    971\u001b[0m     \u001b[38;5;28;01mreturn\u001b[39;00m complexjson\u001b[38;5;241m.\u001b[39mloads(\u001b[38;5;28mself\u001b[39m\u001b[38;5;241m.\u001b[39mtext, \u001b[38;5;241m*\u001b[39m\u001b[38;5;241m*\u001b[39mkwargs)\n\u001b[1;32m    972\u001b[0m \u001b[38;5;28;01mexcept\u001b[39;00m JSONDecodeError \u001b[38;5;28;01mas\u001b[39;00m e:\n\u001b[1;32m    973\u001b[0m     \u001b[38;5;66;03m# Catch JSON-related errors and raise as requests.JSONDecodeError\u001b[39;00m\n\u001b[1;32m    974\u001b[0m     \u001b[38;5;66;03m# This aliases json.JSONDecodeError and simplejson.JSONDecodeError\u001b[39;00m\n\u001b[0;32m--> 975\u001b[0m     \u001b[38;5;28;01mraise\u001b[39;00m RequestsJSONDecodeError(e\u001b[38;5;241m.\u001b[39mmsg, e\u001b[38;5;241m.\u001b[39mdoc, e\u001b[38;5;241m.\u001b[39mpos)\n",
      "\u001b[0;31mJSONDecodeError\u001b[0m: Expecting value: line 1 column 1 (char 0)"
     ]
    }
   ],
   "source": [
    "def t(name):\n",
    "    data = {\n",
    "        \"action\": \"table_info\",\n",
    "        \"metadata\": {\n",
    "            \"name\": name\n",
    "        }}\n",
    "    response = requests.post(\"http://localhost:5005/inspect\", json=str2hex(json.dumps(data)))\n",
    "    print(response.status_code)\n",
    "    return response.json()\n",
    "#     os.chdir(\"/Users/shahnawazakhtar/Desktop/liquid-dao/frontend-console\")\n",
    "#     os.system(f\"yarn start inspect --payload '{json.dumps(data)}'\")\n",
    "t(\"RULES\")"
   ]
  },
  {
   "cell_type": "code",
   "execution_count": 503,
   "id": "8670eedb",
   "metadata": {},
   "outputs": [
    {
     "data": {
      "text/plain": [
       "200"
      ]
     },
     "execution_count": 503,
     "metadata": {},
     "output_type": "execute_result"
    }
   ],
   "source": [
    "data = {\n",
    "    \"action\": \"table_info\",\n",
    "    \"metadata\": {\n",
    "        \"name\": \"RULES\"\n",
    "}}\n",
    "\n",
    "response.status_code"
   ]
  },
  {
   "cell_type": "code",
   "execution_count": 506,
   "id": "da84b34a",
   "metadata": {},
   "outputs": [
    {
     "data": {
      "text/html": [
       "<div>\n",
       "<style scoped>\n",
       "    .dataframe tbody tr th:only-of-type {\n",
       "        vertical-align: middle;\n",
       "    }\n",
       "\n",
       "    .dataframe tbody tr th {\n",
       "        vertical-align: top;\n",
       "    }\n",
       "\n",
       "    .dataframe thead th {\n",
       "        text-align: right;\n",
       "    }\n",
       "</style>\n",
       "<table border=\"1\" class=\"dataframe\">\n",
       "  <thead>\n",
       "    <tr style=\"text-align: right;\">\n",
       "      <th></th>\n",
       "      <th>name</th>\n",
       "      <th>logic</th>\n",
       "      <th>description</th>\n",
       "    </tr>\n",
       "  </thead>\n",
       "  <tbody>\n",
       "    <tr>\n",
       "      <th>0</th>\n",
       "      <td>create_ammendment_proposal</td>\n",
       "      <td>0x0a646566206372656174655f616d6d656e646d656e74...</td>\n",
       "      <td>Create ammendment proposal</td>\n",
       "    </tr>\n",
       "    <tr>\n",
       "      <th>1</th>\n",
       "      <td>delete_ammendment_proposal</td>\n",
       "      <td>0x0a6465662064656c6574655f616d6d656e646d656e74...</td>\n",
       "      <td>Delete ammendment proposal</td>\n",
       "    </tr>\n",
       "    <tr>\n",
       "      <th>2</th>\n",
       "      <td>ammendment_concensus</td>\n",
       "      <td>0x0a64656620616d6d656e646d656e745f636f6e63656e...</td>\n",
       "      <td>Rules for ammendment_concensus in the DAO at g...</td>\n",
       "    </tr>\n",
       "    <tr>\n",
       "      <th>3</th>\n",
       "      <td>table_info</td>\n",
       "      <td>0x0a646566207461626c655f696e666f286d6574616461...</td>\n",
       "      <td>Getting information about a table</td>\n",
       "    </tr>\n",
       "  </tbody>\n",
       "</table>\n",
       "</div>"
      ],
      "text/plain": [
       "                         name  \\\n",
       "0  create_ammendment_proposal   \n",
       "1  delete_ammendment_proposal   \n",
       "2        ammendment_concensus   \n",
       "3                  table_info   \n",
       "\n",
       "                                               logic  \\\n",
       "0  0x0a646566206372656174655f616d6d656e646d656e74...   \n",
       "1  0x0a6465662064656c6574655f616d6d656e646d656e74...   \n",
       "2  0x0a64656620616d6d656e646d656e745f636f6e63656e...   \n",
       "3  0x0a646566207461626c655f696e666f286d6574616461...   \n",
       "\n",
       "                                         description  \n",
       "0                         Create ammendment proposal  \n",
       "1                         Delete ammendment proposal  \n",
       "2  Rules for ammendment_concensus in the DAO at g...  \n",
       "3                  Getting information about a table  "
      ]
     },
     "execution_count": 506,
     "metadata": {},
     "output_type": "execute_result"
    }
   ],
   "source": []
  },
  {
   "cell_type": "code",
   "execution_count": 471,
   "id": "5fd4e9d7",
   "metadata": {},
   "outputs": [
    {
     "data": {
      "text/plain": [
       "'{\"action\": \"create_ammendment_proposal\", \"metadata\": {\"name\": \"get_table\", \"logic\": \"\\\\n    def get_table(metadata, cur):\\\\n        table_name = metadata[\\\\\"name\\\\\"]\\\\n        cur.execute(\\\\\"SELECT * FROM {}\\\\\".format(table_name))\\\\n        return cur.fetchall()\\\\n    \", \"description\": \"returns content of the table\"}}'"
      ]
     },
     "execution_count": 471,
     "metadata": {},
     "output_type": "execute_result"
    }
   ],
   "source": [
    "data"
   ]
  },
  {
   "cell_type": "code",
   "execution_count": null,
   "id": "0bef223a",
   "metadata": {},
   "outputs": [],
   "source": []
  }
 ],
 "metadata": {
  "kernelspec": {
   "display_name": "Python 3 (ipykernel)",
   "language": "python",
   "name": "python3"
  },
  "language_info": {
   "codemirror_mode": {
    "name": "ipython",
    "version": 3
   },
   "file_extension": ".py",
   "mimetype": "text/x-python",
   "name": "python",
   "nbconvert_exporter": "python",
   "pygments_lexer": "ipython3",
   "version": "3.8.3"
  }
 },
 "nbformat": 4,
 "nbformat_minor": 5
}
